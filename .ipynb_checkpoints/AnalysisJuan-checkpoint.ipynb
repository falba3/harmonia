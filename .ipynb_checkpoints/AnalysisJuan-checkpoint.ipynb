{
 "cells": [
  {
   "cell_type": "code",
   "execution_count": 55,
   "id": "1735a3b4-8886-454a-a2e7-7eede5e49203",
   "metadata": {},
   "outputs": [],
   "source": [
    "# Base -----------------------------------------\n",
    "import numpy as np\n",
    "import pandas as pd\n",
    "\n",
    "# Viz ------------------------------------------\n",
    "import matplotlib.pyplot as plt\n",
    "plt.style.use('fivethirtyeight')"
   ]
  },
  {
   "cell_type": "code",
   "execution_count": 49,
   "id": "e6eef0f6-df36-4a6a-8ad8-869808e98cfd",
   "metadata": {},
   "outputs": [
    {
     "data": {
      "text/html": [
       "<div>\n",
       "<style scoped>\n",
       "    .dataframe tbody tr th:only-of-type {\n",
       "        vertical-align: middle;\n",
       "    }\n",
       "\n",
       "    .dataframe tbody tr th {\n",
       "        vertical-align: top;\n",
       "    }\n",
       "\n",
       "    .dataframe thead th {\n",
       "        text-align: right;\n",
       "    }\n",
       "</style>\n",
       "<table border=\"1\" class=\"dataframe\">\n",
       "  <thead>\n",
       "    <tr style=\"text-align: right;\">\n",
       "      <th></th>\n",
       "      <th>Unnamed: 0</th>\n",
       "      <th>price</th>\n",
       "      <th>propertyType</th>\n",
       "      <th>size</th>\n",
       "      <th>exterior</th>\n",
       "      <th>rooms</th>\n",
       "      <th>bathrooms</th>\n",
       "      <th>address</th>\n",
       "      <th>province</th>\n",
       "      <th>municipality</th>\n",
       "      <th>...</th>\n",
       "      <th>status</th>\n",
       "      <th>newDevelopment</th>\n",
       "      <th>hasLift</th>\n",
       "      <th>priceByArea</th>\n",
       "      <th>hasParkingSpace</th>\n",
       "      <th>isParkingSpaceIncludedInPrice</th>\n",
       "      <th>parkingSpacePrice</th>\n",
       "      <th>groupDescription</th>\n",
       "      <th>typology</th>\n",
       "      <th>subTypology</th>\n",
       "    </tr>\n",
       "  </thead>\n",
       "  <tbody>\n",
       "    <tr>\n",
       "      <th>0</th>\n",
       "      <td>0</td>\n",
       "      <td>335000.0</td>\n",
       "      <td>flat</td>\n",
       "      <td>136.0</td>\n",
       "      <td>True</td>\n",
       "      <td>3</td>\n",
       "      <td>2</td>\n",
       "      <td>SIGRID</td>\n",
       "      <td>Madrid</td>\n",
       "      <td>Rivas-Vaciamadrid</td>\n",
       "      <td>...</td>\n",
       "      <td>good</td>\n",
       "      <td>False</td>\n",
       "      <td>True</td>\n",
       "      <td>2463.0</td>\n",
       "      <td>True</td>\n",
       "      <td>True</td>\n",
       "      <td>NaN</td>\n",
       "      <td>Destacado</td>\n",
       "      <td>flat</td>\n",
       "      <td>standardFlat</td>\n",
       "    </tr>\n",
       "    <tr>\n",
       "      <th>1</th>\n",
       "      <td>1</td>\n",
       "      <td>1650000.0</td>\n",
       "      <td>flat</td>\n",
       "      <td>179.0</td>\n",
       "      <td>True</td>\n",
       "      <td>2</td>\n",
       "      <td>3</td>\n",
       "      <td>Calle del Príncipe de Vergara</td>\n",
       "      <td>Madrid</td>\n",
       "      <td>Madrid</td>\n",
       "      <td>...</td>\n",
       "      <td>good</td>\n",
       "      <td>False</td>\n",
       "      <td>True</td>\n",
       "      <td>9218.0</td>\n",
       "      <td>True</td>\n",
       "      <td>True</td>\n",
       "      <td>NaN</td>\n",
       "      <td>Destacado</td>\n",
       "      <td>flat</td>\n",
       "      <td>standardFlat</td>\n",
       "    </tr>\n",
       "    <tr>\n",
       "      <th>2</th>\n",
       "      <td>2</td>\n",
       "      <td>770000.0</td>\n",
       "      <td>flat</td>\n",
       "      <td>109.0</td>\n",
       "      <td>True</td>\n",
       "      <td>2</td>\n",
       "      <td>2</td>\n",
       "      <td>barrio Ibiza</td>\n",
       "      <td>Madrid</td>\n",
       "      <td>Madrid</td>\n",
       "      <td>...</td>\n",
       "      <td>good</td>\n",
       "      <td>False</td>\n",
       "      <td>True</td>\n",
       "      <td>7064.0</td>\n",
       "      <td>False</td>\n",
       "      <td>False</td>\n",
       "      <td>NaN</td>\n",
       "      <td>Destacado</td>\n",
       "      <td>flat</td>\n",
       "      <td>standardFlat</td>\n",
       "    </tr>\n",
       "    <tr>\n",
       "      <th>3</th>\n",
       "      <td>3</td>\n",
       "      <td>175000.0</td>\n",
       "      <td>flat</td>\n",
       "      <td>49.0</td>\n",
       "      <td>True</td>\n",
       "      <td>1</td>\n",
       "      <td>1</td>\n",
       "      <td>Calle de los Morales, 10</td>\n",
       "      <td>Madrid</td>\n",
       "      <td>Madrid</td>\n",
       "      <td>...</td>\n",
       "      <td>good</td>\n",
       "      <td>False</td>\n",
       "      <td>True</td>\n",
       "      <td>3571.0</td>\n",
       "      <td>True</td>\n",
       "      <td>False</td>\n",
       "      <td>25000.0</td>\n",
       "      <td>Destacado</td>\n",
       "      <td>flat</td>\n",
       "      <td>standardFlat</td>\n",
       "    </tr>\n",
       "    <tr>\n",
       "      <th>4</th>\n",
       "      <td>4</td>\n",
       "      <td>280000.0</td>\n",
       "      <td>flat</td>\n",
       "      <td>121.0</td>\n",
       "      <td>True</td>\n",
       "      <td>4</td>\n",
       "      <td>2</td>\n",
       "      <td>Calle del Río Ulla</td>\n",
       "      <td>Madrid</td>\n",
       "      <td>Madrid</td>\n",
       "      <td>...</td>\n",
       "      <td>good</td>\n",
       "      <td>False</td>\n",
       "      <td>False</td>\n",
       "      <td>2314.0</td>\n",
       "      <td>False</td>\n",
       "      <td>False</td>\n",
       "      <td>NaN</td>\n",
       "      <td>Destacado</td>\n",
       "      <td>flat</td>\n",
       "      <td>standardFlat</td>\n",
       "    </tr>\n",
       "    <tr>\n",
       "      <th>...</th>\n",
       "      <td>...</td>\n",
       "      <td>...</td>\n",
       "      <td>...</td>\n",
       "      <td>...</td>\n",
       "      <td>...</td>\n",
       "      <td>...</td>\n",
       "      <td>...</td>\n",
       "      <td>...</td>\n",
       "      <td>...</td>\n",
       "      <td>...</td>\n",
       "      <td>...</td>\n",
       "      <td>...</td>\n",
       "      <td>...</td>\n",
       "      <td>...</td>\n",
       "      <td>...</td>\n",
       "      <td>...</td>\n",
       "      <td>...</td>\n",
       "      <td>...</td>\n",
       "      <td>...</td>\n",
       "      <td>...</td>\n",
       "      <td>...</td>\n",
       "    </tr>\n",
       "    <tr>\n",
       "      <th>6510</th>\n",
       "      <td>6510</td>\n",
       "      <td>2500000.0</td>\n",
       "      <td>flat</td>\n",
       "      <td>341.0</td>\n",
       "      <td>True</td>\n",
       "      <td>4</td>\n",
       "      <td>2</td>\n",
       "      <td>barrio Castellana</td>\n",
       "      <td>Madrid</td>\n",
       "      <td>Madrid</td>\n",
       "      <td>...</td>\n",
       "      <td>good</td>\n",
       "      <td>False</td>\n",
       "      <td>True</td>\n",
       "      <td>7331.0</td>\n",
       "      <td>False</td>\n",
       "      <td>False</td>\n",
       "      <td>NaN</td>\n",
       "      <td>NaN</td>\n",
       "      <td>flat</td>\n",
       "      <td>standardFlat</td>\n",
       "    </tr>\n",
       "    <tr>\n",
       "      <th>6511</th>\n",
       "      <td>6511</td>\n",
       "      <td>79000.0</td>\n",
       "      <td>flat</td>\n",
       "      <td>66.0</td>\n",
       "      <td>True</td>\n",
       "      <td>1</td>\n",
       "      <td>1</td>\n",
       "      <td>Calle de José Gutiérrez Maroto</td>\n",
       "      <td>Madrid</td>\n",
       "      <td>Madrid</td>\n",
       "      <td>...</td>\n",
       "      <td>good</td>\n",
       "      <td>False</td>\n",
       "      <td>True</td>\n",
       "      <td>1197.0</td>\n",
       "      <td>True</td>\n",
       "      <td>True</td>\n",
       "      <td>NaN</td>\n",
       "      <td>NaN</td>\n",
       "      <td>flat</td>\n",
       "      <td>standardFlat</td>\n",
       "    </tr>\n",
       "    <tr>\n",
       "      <th>6512</th>\n",
       "      <td>6512</td>\n",
       "      <td>126800.0</td>\n",
       "      <td>chalet</td>\n",
       "      <td>159.0</td>\n",
       "      <td>False</td>\n",
       "      <td>3</td>\n",
       "      <td>3</td>\n",
       "      <td>Calle del Pintor Álvaro Delgado</td>\n",
       "      <td>Madrid</td>\n",
       "      <td>Olmeda de las Fuentes</td>\n",
       "      <td>...</td>\n",
       "      <td>good</td>\n",
       "      <td>False</td>\n",
       "      <td>False</td>\n",
       "      <td>797.0</td>\n",
       "      <td>True</td>\n",
       "      <td>True</td>\n",
       "      <td>NaN</td>\n",
       "      <td>NaN</td>\n",
       "      <td>chalet</td>\n",
       "      <td>terracedHouse</td>\n",
       "    </tr>\n",
       "    <tr>\n",
       "      <th>6513</th>\n",
       "      <td>6513</td>\n",
       "      <td>126100.0</td>\n",
       "      <td>chalet</td>\n",
       "      <td>150.0</td>\n",
       "      <td>False</td>\n",
       "      <td>3</td>\n",
       "      <td>2</td>\n",
       "      <td>MAYOR</td>\n",
       "      <td>Madrid</td>\n",
       "      <td>Olmeda de las Fuentes</td>\n",
       "      <td>...</td>\n",
       "      <td>good</td>\n",
       "      <td>False</td>\n",
       "      <td>False</td>\n",
       "      <td>841.0</td>\n",
       "      <td>False</td>\n",
       "      <td>False</td>\n",
       "      <td>NaN</td>\n",
       "      <td>NaN</td>\n",
       "      <td>chalet</td>\n",
       "      <td>terracedHouse</td>\n",
       "    </tr>\n",
       "    <tr>\n",
       "      <th>6514</th>\n",
       "      <td>6514</td>\n",
       "      <td>126100.0</td>\n",
       "      <td>chalet</td>\n",
       "      <td>150.0</td>\n",
       "      <td>False</td>\n",
       "      <td>3</td>\n",
       "      <td>3</td>\n",
       "      <td>MAYOR</td>\n",
       "      <td>Madrid</td>\n",
       "      <td>Olmeda de las Fuentes</td>\n",
       "      <td>...</td>\n",
       "      <td>good</td>\n",
       "      <td>False</td>\n",
       "      <td>False</td>\n",
       "      <td>841.0</td>\n",
       "      <td>False</td>\n",
       "      <td>False</td>\n",
       "      <td>NaN</td>\n",
       "      <td>NaN</td>\n",
       "      <td>chalet</td>\n",
       "      <td>terracedHouse</td>\n",
       "    </tr>\n",
       "  </tbody>\n",
       "</table>\n",
       "<p>6515 rows × 22 columns</p>\n",
       "</div>"
      ],
      "text/plain": [
       "      Unnamed: 0      price propertyType   size  exterior  rooms  bathrooms  \\\n",
       "0              0   335000.0         flat  136.0      True      3          2   \n",
       "1              1  1650000.0         flat  179.0      True      2          3   \n",
       "2              2   770000.0         flat  109.0      True      2          2   \n",
       "3              3   175000.0         flat   49.0      True      1          1   \n",
       "4              4   280000.0         flat  121.0      True      4          2   \n",
       "...          ...        ...          ...    ...       ...    ...        ...   \n",
       "6510        6510  2500000.0         flat  341.0      True      4          2   \n",
       "6511        6511    79000.0         flat   66.0      True      1          1   \n",
       "6512        6512   126800.0       chalet  159.0     False      3          3   \n",
       "6513        6513   126100.0       chalet  150.0     False      3          2   \n",
       "6514        6514   126100.0       chalet  150.0     False      3          3   \n",
       "\n",
       "                              address province           municipality  ...  \\\n",
       "0                              SIGRID   Madrid      Rivas-Vaciamadrid  ...   \n",
       "1       Calle del Príncipe de Vergara   Madrid                 Madrid  ...   \n",
       "2                        barrio Ibiza   Madrid                 Madrid  ...   \n",
       "3            Calle de los Morales, 10   Madrid                 Madrid  ...   \n",
       "4                  Calle del Río Ulla   Madrid                 Madrid  ...   \n",
       "...                               ...      ...                    ...  ...   \n",
       "6510                barrio Castellana   Madrid                 Madrid  ...   \n",
       "6511   Calle de José Gutiérrez Maroto   Madrid                 Madrid  ...   \n",
       "6512  Calle del Pintor Álvaro Delgado   Madrid  Olmeda de las Fuentes  ...   \n",
       "6513                            MAYOR   Madrid  Olmeda de las Fuentes  ...   \n",
       "6514                            MAYOR   Madrid  Olmeda de las Fuentes  ...   \n",
       "\n",
       "      status  newDevelopment hasLift  priceByArea  hasParkingSpace  \\\n",
       "0       good           False    True       2463.0             True   \n",
       "1       good           False    True       9218.0             True   \n",
       "2       good           False    True       7064.0            False   \n",
       "3       good           False    True       3571.0             True   \n",
       "4       good           False   False       2314.0            False   \n",
       "...      ...             ...     ...          ...              ...   \n",
       "6510    good           False    True       7331.0            False   \n",
       "6511    good           False    True       1197.0             True   \n",
       "6512    good           False   False        797.0             True   \n",
       "6513    good           False   False        841.0            False   \n",
       "6514    good           False   False        841.0            False   \n",
       "\n",
       "      isParkingSpaceIncludedInPrice  parkingSpacePrice  groupDescription  \\\n",
       "0                              True                NaN         Destacado   \n",
       "1                              True                NaN         Destacado   \n",
       "2                             False                NaN         Destacado   \n",
       "3                             False            25000.0         Destacado   \n",
       "4                             False                NaN         Destacado   \n",
       "...                             ...                ...               ...   \n",
       "6510                          False                NaN               NaN   \n",
       "6511                           True                NaN               NaN   \n",
       "6512                           True                NaN               NaN   \n",
       "6513                          False                NaN               NaN   \n",
       "6514                          False                NaN               NaN   \n",
       "\n",
       "      typology    subTypology  \n",
       "0         flat   standardFlat  \n",
       "1         flat   standardFlat  \n",
       "2         flat   standardFlat  \n",
       "3         flat   standardFlat  \n",
       "4         flat   standardFlat  \n",
       "...        ...            ...  \n",
       "6510      flat   standardFlat  \n",
       "6511      flat   standardFlat  \n",
       "6512    chalet  terracedHouse  \n",
       "6513    chalet  terracedHouse  \n",
       "6514    chalet  terracedHouse  \n",
       "\n",
       "[6515 rows x 22 columns]"
      ]
     },
     "execution_count": 49,
     "metadata": {},
     "output_type": "execute_result"
    }
   ],
   "source": [
    "df = pd.read_csv('cleaned_df.csv')\n",
    "df"
   ]
  },
  {
   "cell_type": "code",
   "execution_count": 50,
   "id": "81664da3-d1f8-41b0-89c0-929fb8fec131",
   "metadata": {},
   "outputs": [
    {
     "data": {
      "text/plain": [
       "['Unnamed: 0',\n",
       " 'price',\n",
       " 'propertyType',\n",
       " 'size',\n",
       " 'exterior',\n",
       " 'rooms',\n",
       " 'bathrooms',\n",
       " 'address',\n",
       " 'province',\n",
       " 'municipality',\n",
       " 'latitude',\n",
       " 'longitude',\n",
       " 'status',\n",
       " 'newDevelopment',\n",
       " 'hasLift',\n",
       " 'priceByArea',\n",
       " 'hasParkingSpace',\n",
       " 'isParkingSpaceIncludedInPrice',\n",
       " 'parkingSpacePrice',\n",
       " 'groupDescription',\n",
       " 'typology',\n",
       " 'subTypology']"
      ]
     },
     "execution_count": 50,
     "metadata": {},
     "output_type": "execute_result"
    }
   ],
   "source": [
    "list(df.columns)"
   ]
  },
  {
   "cell_type": "markdown",
   "id": "08814777-3f9c-432a-9c05-4b8dd73297f0",
   "metadata": {},
   "source": [
    "### Var: propertyType"
   ]
  },
  {
   "cell_type": "code",
   "execution_count": 56,
   "id": "4282686a-7848-4e02-ba5d-e5276e771560",
   "metadata": {},
   "outputs": [
    {
     "data": {
      "text/plain": [
       "<Axes: xlabel='propertyType'>"
      ]
     },
     "execution_count": 56,
     "metadata": {},
     "output_type": "execute_result"
    },
    {
     "data": {
      "image/png": "[encoded data removed]",
      "text/plain": [
       "<Figure size 640x480 with 1 Axes>"
      ]
     },
     "metadata": {},
     "output_type": "display_data"
    }
   ],
   "source": [
    "ptyper = df['rooms'].groupby(df['propertyType']).agg({'mean'}).plot(kind = \"bar\")\n",
    "ptyper"
   ]
  },
  {
   "cell_type": "code",
   "execution_count": 57,
   "id": "6a6a03df-949b-40c1-b0a1-608fbfd17c2a",
   "metadata": {},
   "outputs": [
    {
     "data": {
      "text/plain": [
       "<Axes: xlabel='rooms'>"
      ]
     },
     "execution_count": 57,
     "metadata": {},
     "output_type": "execute_result"
    },
    {
     "data": {
      "image/png": "[encoded data removed]",
      "text/plain": [
       "<Figure size 640x480 with 1 Axes>"
      ]
     },
     "metadata": {},
     "output_type": "display_data"
    }
   ],
   "source": [
    "roomsp = df['price'].groupby(df['rooms']).agg({'mean'}).plot(kind = \"bar\")\n",
    "roomsp"
   ]
  },
  {
   "cell_type": "markdown",
   "id": "307171a9-68ff-418f-8c76-a6077127db99",
   "metadata": {},
   "source": [
    "### Var: hasLift"
   ]
  },
  {
   "cell_type": "code",
   "execution_count": 15,
   "id": "5991d885-532f-4a37-a63f-f80e561ff2bc",
   "metadata": {},
   "outputs": [
    {
     "data": {
      "text/html": [
       "<div>\n",
       "<style scoped>\n",
       "    .dataframe tbody tr th:only-of-type {\n",
       "        vertical-align: middle;\n",
       "    }\n",
       "\n",
       "    .dataframe tbody tr th {\n",
       "        vertical-align: top;\n",
       "    }\n",
       "\n",
       "    .dataframe thead th {\n",
       "        text-align: right;\n",
       "    }\n",
       "</style>\n",
       "<table border=\"1\" class=\"dataframe\">\n",
       "  <thead>\n",
       "    <tr style=\"text-align: right;\">\n",
       "      <th></th>\n",
       "      <th>mean</th>\n",
       "    </tr>\n",
       "    <tr>\n",
       "      <th>hasLift</th>\n",
       "      <th></th>\n",
       "    </tr>\n",
       "  </thead>\n",
       "  <tbody>\n",
       "    <tr>\n",
       "      <th>False</th>\n",
       "      <td>375454.428656</td>\n",
       "    </tr>\n",
       "    <tr>\n",
       "      <th>True</th>\n",
       "      <td>454719.708015</td>\n",
       "    </tr>\n",
       "  </tbody>\n",
       "</table>\n",
       "</div>"
      ],
      "text/plain": [
       "                  mean\n",
       "hasLift               \n",
       "False    375454.428656\n",
       "True     454719.708015"
      ]
     },
     "execution_count": 15,
     "metadata": {},
     "output_type": "execute_result"
    }
   ],
   "source": [
    "liftp = df['price'].groupby(df['hasLift']).agg({'mean'})\n",
    "liftp"
   ]
  },
  {
   "cell_type": "code",
   "execution_count": 58,
   "id": "264bd87f-21da-4a75-8cec-8f734522badc",
   "metadata": {},
   "outputs": [
    {
     "data": {
      "text/plain": [
       "<Axes: xlabel='hasLift'>"
      ]
     },
     "execution_count": 58,
     "metadata": {},
     "output_type": "execute_result"
    },
    {
     "data": {
      "image/png": "[encoded data removed]",
      "text/plain": [
       "<Figure size 640x480 with 1 Axes>"
      ]
     },
     "metadata": {},
     "output_type": "display_data"
    }
   ],
   "source": [
    "liftp = df['price'].groupby(df['hasLift']).agg({'mean'}).plot(kind = \"bar\")\n",
    "liftp"
   ]
  },
  {
   "cell_type": "markdown",
   "id": "91e2e3c2-7671-4b08-bedb-f08bee32ece3",
   "metadata": {},
   "source": [
    "### Var: rooms"
   ]
  },
  {
   "cell_type": "code",
   "execution_count": 59,
   "id": "2de59101-3c27-48dd-84eb-5394d99c64dc",
   "metadata": {},
   "outputs": [
    {
     "data": {
      "text/plain": [
       "<Axes: xlabel='rooms'>"
      ]
     },
     "execution_count": 59,
     "metadata": {},
     "output_type": "execute_result"
    },
    {
     "data": {
      "image/png": "[encoded data removed]",
      "text/plain": [
       "<Figure size 640x480 with 1 Axes>"
      ]
     },
     "metadata": {},
     "output_type": "display_data"
    }
   ],
   "source": [
    "roomsp = df['price'].groupby(df['rooms']).agg({'mean'}).plot(kind = \"bar\")\n",
    "roomsp"
   ]
  },
  {
   "cell_type": "code",
   "execution_count": null,
   "id": "12dd4cc2-acea-4c96-abff-edbdeb03f2e1",
   "metadata": {},
   "outputs": [],
   "source": []
  }
 ],
 "metadata": {
  "kernelspec": {
   "display_name": "Python 3 (ipykernel)",
   "language": "python",
   "name": "python3"
  },
  "language_info": {
   "codemirror_mode": {
    "name": "ipython",
    "version": 3
   },
   "file_extension": ".py",
   "mimetype": "text/x-python",
   "name": "python",
   "nbconvert_exporter": "python",
   "pygments_lexer": "ipython3",
   "version": "3.11.4"
  }
 },
 "nbformat": 4,
 "nbformat_minor": 5
}
