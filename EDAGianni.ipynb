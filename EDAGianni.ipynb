{
 "cells": [
  {
   "cell_type": "code",
   "execution_count": 2,
   "metadata": {
    "ExecuteTime": {
     "end_time": "2023-11-12T21:19:19.457787Z",
     "start_time": "2023-11-12T21:19:14.739480Z"
    }
   },
   "outputs": [],
   "source": [
    "import pandas as pd"
   ]
  },
  {
   "cell_type": "code",
   "execution_count": 15,
   "outputs": [],
   "source": [
    "import matplotlib.pyplot as plt"
   ],
   "metadata": {
    "collapsed": false,
    "ExecuteTime": {
     "end_time": "2023-11-12T21:25:40.065711Z",
     "start_time": "2023-11-12T21:25:39.607955Z"
    }
   }
  },
  {
   "cell_type": "code",
   "execution_count": 3,
   "metadata": {
    "ExecuteTime": {
     "end_time": "2023-11-12T21:19:19.608130Z",
     "start_time": "2023-11-12T21:19:19.450566Z"
    }
   },
   "outputs": [],
   "source": [
    "df = pd.read_csv('new/full.csv')"
   ]
  },
  {
   "cell_type": "code",
   "execution_count": 4,
   "metadata": {
    "ExecuteTime": {
     "end_time": "2023-11-12T21:19:19.643962Z",
     "start_time": "2023-11-12T21:19:19.611579Z"
    }
   },
   "outputs": [
    {
     "data": {
      "text/plain": "Index(['Unnamed: 0.3', 'Unnamed: 0.2', 'Unnamed: 0.1', 'Unnamed: 0',\n       'propertyCode', 'thumbnail', 'externalReference', 'numPhotos', 'floor',\n       'price', 'propertyType', 'operation', 'size', 'exterior', 'rooms',\n       'bathrooms', 'address', 'province', 'municipality', 'district',\n       'country', 'latitude', 'longitude', 'showAddress', 'url', 'distance',\n       'description', 'hasVideo', 'status', 'newDevelopment', 'hasLift',\n       'parkingSpace', 'priceByArea', 'detailedType', 'suggestedTexts',\n       'hasPlan', 'has3DTour', 'has360', 'hasStaging', 'highlight',\n       'superTopHighlight', 'topNewDevelopment', 'index', 'neighborhood',\n       'labels', 'newDevelopmentFinished'],\n      dtype='object')"
     },
     "execution_count": 4,
     "metadata": {},
     "output_type": "execute_result"
    }
   ],
   "source": [
    "df.columns"
   ]
  },
  {
   "cell_type": "code",
   "execution_count": 5,
   "metadata": {
    "ExecuteTime": {
     "end_time": "2023-11-12T21:19:24.587121Z",
     "start_time": "2023-11-12T21:19:24.475358Z"
    }
   },
   "outputs": [],
   "source": [
    "df = df[['price', 'propertyType', 'size', 'exterior', 'rooms',\n",
    "         'bathrooms', 'address', 'province', 'municipality',\n",
    "         'latitude', 'longitude', 'status', 'newDevelopment', 'hasLift',\n",
    "         'parkingSpace', 'priceByArea', 'detailedType', 'highlight']]"
   ]
  },
  {
   "cell_type": "code",
   "execution_count": 6,
   "metadata": {
    "ExecuteTime": {
     "end_time": "2023-11-12T21:19:27.501757Z",
     "start_time": "2023-11-12T21:19:27.473714Z"
    }
   },
   "outputs": [
    {
     "data": {
      "text/plain": "          price propertyType   size exterior  rooms  bathrooms  \\\n0      335000.0         flat  136.0     True      3          2   \n1     1650000.0         flat  179.0     True      2          3   \n2      770000.0         flat  109.0     True      2          2   \n3      175000.0         flat   49.0     True      1          1   \n4      280000.0         flat  121.0     True      4          2   \n...         ...          ...    ...      ...    ...        ...   \n6510  2500000.0         flat  341.0     True      4          2   \n6511    79000.0         flat   66.0     True      1          1   \n6512   126800.0       chalet  159.0      NaN      3          3   \n6513   126100.0       chalet  150.0      NaN      3          2   \n6514   126100.0       chalet  150.0      NaN      3          3   \n\n                              address province           municipality  \\\n0                              SIGRID   Madrid      Rivas-Vaciamadrid   \n1       Calle del Príncipe de Vergara   Madrid                 Madrid   \n2                        barrio Ibiza   Madrid                 Madrid   \n3            Calle de los Morales, 10   Madrid                 Madrid   \n4                  Calle del Río Ulla   Madrid                 Madrid   \n...                               ...      ...                    ...   \n6510                barrio Castellana   Madrid                 Madrid   \n6511   Calle de José Gutiérrez Maroto   Madrid                 Madrid   \n6512  Calle del Pintor Álvaro Delgado   Madrid  Olmeda de las Fuentes   \n6513                            MAYOR   Madrid  Olmeda de las Fuentes   \n6514                            MAYOR   Madrid  Olmeda de las Fuentes   \n\n       latitude  longitude status  newDevelopment hasLift  \\\n0     40.352160  -3.518342   good           False    True   \n1     40.433593  -3.677788   good           False    True   \n2     40.416551  -3.672922   good           False    True   \n3     40.361994  -3.756360   good           False    True   \n4     40.432982  -3.643371   good           False   False   \n...         ...        ...    ...             ...     ...   \n6510  40.433505  -3.681772   good           False    True   \n6511  40.362047  -3.606132   good           False    True   \n6512  40.369379  -3.218587   good           False     NaN   \n6513  40.371338  -3.221649   good           False     NaN   \n6514  40.370631  -3.221711   good           False     NaN   \n\n                                           parkingSpace  priceByArea  \\\n0     {'hasParkingSpace': True, 'isParkingSpaceInclu...       2463.0   \n1     {'hasParkingSpace': True, 'isParkingSpaceInclu...       9218.0   \n2                                                   NaN       7064.0   \n3     {'hasParkingSpace': True, 'isParkingSpaceInclu...       3571.0   \n4                                                   NaN       2314.0   \n...                                                 ...          ...   \n6510                                                NaN       7331.0   \n6511  {'hasParkingSpace': True, 'isParkingSpaceInclu...       1197.0   \n6512  {'hasParkingSpace': True, 'isParkingSpaceInclu...        797.0   \n6513                                                NaN        841.0   \n6514                                                NaN        841.0   \n\n                                           detailedType  \\\n0                                  {'typology': 'flat'}   \n1                                  {'typology': 'flat'}   \n2                                  {'typology': 'flat'}   \n3                                  {'typology': 'flat'}   \n4                                  {'typology': 'flat'}   \n...                                                 ...   \n6510                               {'typology': 'flat'}   \n6511                               {'typology': 'flat'}   \n6512  {'typology': 'chalet', 'subTypology': 'terrace...   \n6513  {'typology': 'chalet', 'subTypology': 'terrace...   \n6514  {'typology': 'chalet', 'subTypology': 'terrace...   \n\n                              highlight  \n0     {'groupDescription': 'Destacado'}  \n1     {'groupDescription': 'Destacado'}  \n2     {'groupDescription': 'Destacado'}  \n3     {'groupDescription': 'Destacado'}  \n4     {'groupDescription': 'Destacado'}  \n...                                 ...  \n6510                                NaN  \n6511                                NaN  \n6512                                NaN  \n6513                                NaN  \n6514                                NaN  \n\n[6515 rows x 18 columns]",
      "text/html": "<div>\n<style scoped>\n    .dataframe tbody tr th:only-of-type {\n        vertical-align: middle;\n    }\n\n    .dataframe tbody tr th {\n        vertical-align: top;\n    }\n\n    .dataframe thead th {\n        text-align: right;\n    }\n</style>\n<table border=\"1\" class=\"dataframe\">\n  <thead>\n    <tr style=\"text-align: right;\">\n      <th></th>\n      <th>price</th>\n      <th>propertyType</th>\n      <th>size</th>\n      <th>exterior</th>\n      <th>rooms</th>\n      <th>bathrooms</th>\n      <th>address</th>\n      <th>province</th>\n      <th>municipality</th>\n      <th>latitude</th>\n      <th>longitude</th>\n      <th>status</th>\n      <th>newDevelopment</th>\n      <th>hasLift</th>\n      <th>parkingSpace</th>\n      <th>priceByArea</th>\n      <th>detailedType</th>\n      <th>highlight</th>\n    </tr>\n  </thead>\n  <tbody>\n    <tr>\n      <th>0</th>\n      <td>335000.0</td>\n      <td>flat</td>\n      <td>136.0</td>\n      <td>True</td>\n      <td>3</td>\n      <td>2</td>\n      <td>SIGRID</td>\n      <td>Madrid</td>\n      <td>Rivas-Vaciamadrid</td>\n      <td>40.352160</td>\n      <td>-3.518342</td>\n      <td>good</td>\n      <td>False</td>\n      <td>True</td>\n      <td>{'hasParkingSpace': True, 'isParkingSpaceInclu...</td>\n      <td>2463.0</td>\n      <td>{'typology': 'flat'}</td>\n      <td>{'groupDescription': 'Destacado'}</td>\n    </tr>\n    <tr>\n      <th>1</th>\n      <td>1650000.0</td>\n      <td>flat</td>\n      <td>179.0</td>\n      <td>True</td>\n      <td>2</td>\n      <td>3</td>\n      <td>Calle del Príncipe de Vergara</td>\n      <td>Madrid</td>\n      <td>Madrid</td>\n      <td>40.433593</td>\n      <td>-3.677788</td>\n      <td>good</td>\n      <td>False</td>\n      <td>True</td>\n      <td>{'hasParkingSpace': True, 'isParkingSpaceInclu...</td>\n      <td>9218.0</td>\n      <td>{'typology': 'flat'}</td>\n      <td>{'groupDescription': 'Destacado'}</td>\n    </tr>\n    <tr>\n      <th>2</th>\n      <td>770000.0</td>\n      <td>flat</td>\n      <td>109.0</td>\n      <td>True</td>\n      <td>2</td>\n      <td>2</td>\n      <td>barrio Ibiza</td>\n      <td>Madrid</td>\n      <td>Madrid</td>\n      <td>40.416551</td>\n      <td>-3.672922</td>\n      <td>good</td>\n      <td>False</td>\n      <td>True</td>\n      <td>NaN</td>\n      <td>7064.0</td>\n      <td>{'typology': 'flat'}</td>\n      <td>{'groupDescription': 'Destacado'}</td>\n    </tr>\n    <tr>\n      <th>3</th>\n      <td>175000.0</td>\n      <td>flat</td>\n      <td>49.0</td>\n      <td>True</td>\n      <td>1</td>\n      <td>1</td>\n      <td>Calle de los Morales, 10</td>\n      <td>Madrid</td>\n      <td>Madrid</td>\n      <td>40.361994</td>\n      <td>-3.756360</td>\n      <td>good</td>\n      <td>False</td>\n      <td>True</td>\n      <td>{'hasParkingSpace': True, 'isParkingSpaceInclu...</td>\n      <td>3571.0</td>\n      <td>{'typology': 'flat'}</td>\n      <td>{'groupDescription': 'Destacado'}</td>\n    </tr>\n    <tr>\n      <th>4</th>\n      <td>280000.0</td>\n      <td>flat</td>\n      <td>121.0</td>\n      <td>True</td>\n      <td>4</td>\n      <td>2</td>\n      <td>Calle del Río Ulla</td>\n      <td>Madrid</td>\n      <td>Madrid</td>\n      <td>40.432982</td>\n      <td>-3.643371</td>\n      <td>good</td>\n      <td>False</td>\n      <td>False</td>\n      <td>NaN</td>\n      <td>2314.0</td>\n      <td>{'typology': 'flat'}</td>\n      <td>{'groupDescription': 'Destacado'}</td>\n    </tr>\n    <tr>\n      <th>...</th>\n      <td>...</td>\n      <td>...</td>\n      <td>...</td>\n      <td>...</td>\n      <td>...</td>\n      <td>...</td>\n      <td>...</td>\n      <td>...</td>\n      <td>...</td>\n      <td>...</td>\n      <td>...</td>\n      <td>...</td>\n      <td>...</td>\n      <td>...</td>\n      <td>...</td>\n      <td>...</td>\n      <td>...</td>\n      <td>...</td>\n    </tr>\n    <tr>\n      <th>6510</th>\n      <td>2500000.0</td>\n      <td>flat</td>\n      <td>341.0</td>\n      <td>True</td>\n      <td>4</td>\n      <td>2</td>\n      <td>barrio Castellana</td>\n      <td>Madrid</td>\n      <td>Madrid</td>\n      <td>40.433505</td>\n      <td>-3.681772</td>\n      <td>good</td>\n      <td>False</td>\n      <td>True</td>\n      <td>NaN</td>\n      <td>7331.0</td>\n      <td>{'typology': 'flat'}</td>\n      <td>NaN</td>\n    </tr>\n    <tr>\n      <th>6511</th>\n      <td>79000.0</td>\n      <td>flat</td>\n      <td>66.0</td>\n      <td>True</td>\n      <td>1</td>\n      <td>1</td>\n      <td>Calle de José Gutiérrez Maroto</td>\n      <td>Madrid</td>\n      <td>Madrid</td>\n      <td>40.362047</td>\n      <td>-3.606132</td>\n      <td>good</td>\n      <td>False</td>\n      <td>True</td>\n      <td>{'hasParkingSpace': True, 'isParkingSpaceInclu...</td>\n      <td>1197.0</td>\n      <td>{'typology': 'flat'}</td>\n      <td>NaN</td>\n    </tr>\n    <tr>\n      <th>6512</th>\n      <td>126800.0</td>\n      <td>chalet</td>\n      <td>159.0</td>\n      <td>NaN</td>\n      <td>3</td>\n      <td>3</td>\n      <td>Calle del Pintor Álvaro Delgado</td>\n      <td>Madrid</td>\n      <td>Olmeda de las Fuentes</td>\n      <td>40.369379</td>\n      <td>-3.218587</td>\n      <td>good</td>\n      <td>False</td>\n      <td>NaN</td>\n      <td>{'hasParkingSpace': True, 'isParkingSpaceInclu...</td>\n      <td>797.0</td>\n      <td>{'typology': 'chalet', 'subTypology': 'terrace...</td>\n      <td>NaN</td>\n    </tr>\n    <tr>\n      <th>6513</th>\n      <td>126100.0</td>\n      <td>chalet</td>\n      <td>150.0</td>\n      <td>NaN</td>\n      <td>3</td>\n      <td>2</td>\n      <td>MAYOR</td>\n      <td>Madrid</td>\n      <td>Olmeda de las Fuentes</td>\n      <td>40.371338</td>\n      <td>-3.221649</td>\n      <td>good</td>\n      <td>False</td>\n      <td>NaN</td>\n      <td>NaN</td>\n      <td>841.0</td>\n      <td>{'typology': 'chalet', 'subTypology': 'terrace...</td>\n      <td>NaN</td>\n    </tr>\n    <tr>\n      <th>6514</th>\n      <td>126100.0</td>\n      <td>chalet</td>\n      <td>150.0</td>\n      <td>NaN</td>\n      <td>3</td>\n      <td>3</td>\n      <td>MAYOR</td>\n      <td>Madrid</td>\n      <td>Olmeda de las Fuentes</td>\n      <td>40.370631</td>\n      <td>-3.221711</td>\n      <td>good</td>\n      <td>False</td>\n      <td>NaN</td>\n      <td>NaN</td>\n      <td>841.0</td>\n      <td>{'typology': 'chalet', 'subTypology': 'terrace...</td>\n      <td>NaN</td>\n    </tr>\n  </tbody>\n</table>\n<p>6515 rows × 18 columns</p>\n</div>"
     },
     "execution_count": 6,
     "metadata": {},
     "output_type": "execute_result"
    }
   ],
   "source": [
    "df"
   ]
  },
  {
   "cell_type": "code",
   "execution_count": 19,
   "metadata": {},
   "outputs": [],
   "source": [
    "### Missing Values"
   ]
  },
  {
   "cell_type": "code",
   "execution_count": 7,
   "metadata": {
    "ExecuteTime": {
     "end_time": "2023-11-12T21:19:34.801257Z",
     "start_time": "2023-11-12T21:19:34.696383Z"
    }
   },
   "outputs": [
    {
     "data": {
      "text/plain": "price                0\npropertyType         0\nsize                 0\nexterior          1948\nrooms                0\nbathrooms            0\naddress              0\nprovince             0\nmunicipality         0\nlatitude             0\nlongitude            0\nstatus               0\nnewDevelopment       0\nhasLift           1777\nparkingSpace      3992\npriceByArea          0\ndetailedType         0\nhighlight         3980\ndtype: int64"
     },
     "execution_count": 7,
     "metadata": {},
     "output_type": "execute_result"
    }
   ],
   "source": [
    "df.isnull().sum()"
   ]
  },
  {
   "cell_type": "code",
   "execution_count": 8,
   "metadata": {
    "ExecuteTime": {
     "end_time": "2023-11-12T21:19:45.014732Z",
     "start_time": "2023-11-12T21:19:44.881106Z"
    }
   },
   "outputs": [],
   "source": [
    "df['exterior'] = df['exterior'].fillna(False)"
   ]
  },
  {
   "cell_type": "code",
   "execution_count": 9,
   "metadata": {
    "ExecuteTime": {
     "end_time": "2023-11-12T21:19:47.644676Z",
     "start_time": "2023-11-12T21:19:47.583973Z"
    }
   },
   "outputs": [],
   "source": [
    "df['hasLift'] = df['hasLift'].fillna(False)"
   ]
  },
  {
   "cell_type": "code",
   "execution_count": 10,
   "metadata": {
    "ExecuteTime": {
     "end_time": "2023-11-12T21:20:06.900875Z",
     "start_time": "2023-11-12T21:20:06.752030Z"
    }
   },
   "outputs": [
    {
     "data": {
      "text/plain": "price                0\npropertyType         0\nsize                 0\nexterior             0\nrooms                0\nbathrooms            0\naddress              0\nprovince             0\nmunicipality         0\nlatitude             0\nlongitude            0\nstatus               0\nnewDevelopment       0\nhasLift              0\nparkingSpace      3992\npriceByArea          0\ndetailedType         0\nhighlight         3980\ndtype: int64"
     },
     "execution_count": 10,
     "metadata": {},
     "output_type": "execute_result"
    }
   ],
   "source": [
    "df.isnull().sum()"
   ]
  },
  {
   "cell_type": "code",
   "execution_count": 12,
   "outputs": [
    {
     "data": {
      "text/plain": "Index(['price', 'propertyType', 'size', 'exterior', 'rooms', 'bathrooms',\n       'address', 'province', 'municipality', 'latitude', 'longitude',\n       'status', 'newDevelopment', 'hasLift', 'parkingSpace', 'priceByArea',\n       'detailedType', 'highlight'],\n      dtype='object')"
     },
     "execution_count": 12,
     "metadata": {},
     "output_type": "execute_result"
    }
   ],
   "source": [
    "df.columns"
   ],
   "metadata": {
    "collapsed": false,
    "ExecuteTime": {
     "end_time": "2023-11-12T21:21:45.775705Z",
     "start_time": "2023-11-12T21:21:45.649186Z"
    }
   }
  },
  {
   "cell_type": "code",
   "execution_count": 16,
   "outputs": [
    {
     "data": {
      "text/plain": "<Axes: >"
     },
     "execution_count": 16,
     "metadata": {},
     "output_type": "execute_result"
    },
    {
     "data": {
      "text/plain": "<Figure size 640x480 with 1 Axes>",
      "image/png": "[encoded data removed]"
     },
     "metadata": {},
     "output_type": "display_data"
    }
   ],
   "source": [
    "df.boxplot('price')"
   ],
   "metadata": {
    "collapsed": false,
    "ExecuteTime": {
     "end_time": "2023-11-12T21:25:46.356484Z",
     "start_time": "2023-11-12T21:25:46.127091Z"
    }
   }
  },
  {
   "cell_type": "code",
   "execution_count": 23,
   "outputs": [
    {
     "data": {
      "text/plain": "<Axes: title={'center': 'price'}, xlabel='price'>"
     },
     "execution_count": 23,
     "metadata": {},
     "output_type": "execute_result"
    }
   ],
   "source": [
    "b = df['price'].value_counts()\n",
    "b.plot(kind = 'bar')"
   ],
   "metadata": {
    "collapsed": false,
    "ExecuteTime": {
     "end_time": "2023-11-12T21:30:22.708337Z",
     "start_time": "2023-11-12T21:30:21.799581Z"
    }
   }
  },
  {
   "cell_type": "code",
   "execution_count": null,
   "outputs": [],
   "source": [],
   "metadata": {
    "collapsed": false
   }
  }
 ],
 "metadata": {
  "kernelspec": {
   "display_name": "Python 3 (ipykernel)",
   "language": "python",
   "name": "python3"
  },
  "language_info": {
   "codemirror_mode": {
    "name": "ipython",
    "version": 3
   },
   "file_extension": ".py",
   "mimetype": "text/x-python",
   "name": "python",
   "nbconvert_exporter": "python",
   "pygments_lexer": "ipython3",
   "version": "3.11.4"
  }
 },
 "nbformat": 4,
 "nbformat_minor": 4
}