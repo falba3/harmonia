{
 "cells": [
  {
   "cell_type": "code",
   "execution_count": 3,
   "id": "1735a3b4-8886-454a-a2e7-7eede5e49203",
   "metadata": {},
   "outputs": [],
   "source": [
    "# Base -----------------------------------------\n",
    "import numpy as np\n",
    "import pandas as pd\n",
    "\n",
    "# Viz ------------------------------------------\n",
    "import matplotlib.pyplot as plt\n",
    "plt.style.use('fivethirtyeight')"
   ]
  },
  {
   "cell_type": "code",
   "execution_count": 29,
   "id": "e6eef0f6-df36-4a6a-8ad8-869808e98cfd",
   "metadata": {},
   "outputs": [
    {
     "data": {
      "text/html": [
       "<div>\n",
       "<style scoped>\n",
       "    .dataframe tbody tr th:only-of-type {\n",
       "        vertical-align: middle;\n",
       "    }\n",
       "\n",
       "    .dataframe tbody tr th {\n",
       "        vertical-align: top;\n",
       "    }\n",
       "\n",
       "    .dataframe thead th {\n",
       "        text-align: right;\n",
       "    }\n",
       "</style>\n",
       "<table border=\"1\" class=\"dataframe\">\n",
       "  <thead>\n",
       "    <tr style=\"text-align: right;\">\n",
       "      <th></th>\n",
       "      <th>Unnamed: 0</th>\n",
       "      <th>price</th>\n",
       "      <th>propertyType</th>\n",
       "      <th>size</th>\n",
       "      <th>exterior</th>\n",
       "      <th>rooms</th>\n",
       "      <th>bathrooms</th>\n",
       "      <th>address</th>\n",
       "      <th>province</th>\n",
       "      <th>municipality</th>\n",
       "      <th>...</th>\n",
       "      <th>status</th>\n",
       "      <th>newDevelopment</th>\n",
       "      <th>hasLift</th>\n",
       "      <th>priceByArea</th>\n",
       "      <th>hasParkingSpace</th>\n",
       "      <th>isParkingSpaceIncludedInPrice</th>\n",
       "      <th>parkingSpacePrice</th>\n",
       "      <th>groupDescription</th>\n",
       "      <th>typology</th>\n",
       "      <th>subTypology</th>\n",
       "    </tr>\n",
       "  </thead>\n",
       "  <tbody>\n",
       "    <tr>\n",
       "      <th>0</th>\n",
       "      <td>0</td>\n",
       "      <td>335000.0</td>\n",
       "      <td>flat</td>\n",
       "      <td>136.0</td>\n",
       "      <td>True</td>\n",
       "      <td>3</td>\n",
       "      <td>2</td>\n",
       "      <td>SIGRID</td>\n",
       "      <td>Madrid</td>\n",
       "      <td>Rivas-Vaciamadrid</td>\n",
       "      <td>...</td>\n",
       "      <td>good</td>\n",
       "      <td>False</td>\n",
       "      <td>True</td>\n",
       "      <td>2463.0</td>\n",
       "      <td>True</td>\n",
       "      <td>True</td>\n",
       "      <td>NaN</td>\n",
       "      <td>Destacado</td>\n",
       "      <td>flat</td>\n",
       "      <td>standardFlat</td>\n",
       "    </tr>\n",
       "    <tr>\n",
       "      <th>1</th>\n",
       "      <td>1</td>\n",
       "      <td>1650000.0</td>\n",
       "      <td>flat</td>\n",
       "      <td>179.0</td>\n",
       "      <td>True</td>\n",
       "      <td>2</td>\n",
       "      <td>3</td>\n",
       "      <td>Calle del Príncipe de Vergara</td>\n",
       "      <td>Madrid</td>\n",
       "      <td>Madrid</td>\n",
       "      <td>...</td>\n",
       "      <td>good</td>\n",
       "      <td>False</td>\n",
       "      <td>True</td>\n",
       "      <td>9218.0</td>\n",
       "      <td>True</td>\n",
       "      <td>True</td>\n",
       "      <td>NaN</td>\n",
       "      <td>Destacado</td>\n",
       "      <td>flat</td>\n",
       "      <td>standardFlat</td>\n",
       "    </tr>\n",
       "    <tr>\n",
       "      <th>2</th>\n",
       "      <td>2</td>\n",
       "      <td>770000.0</td>\n",
       "      <td>flat</td>\n",
       "      <td>109.0</td>\n",
       "      <td>True</td>\n",
       "      <td>2</td>\n",
       "      <td>2</td>\n",
       "      <td>barrio Ibiza</td>\n",
       "      <td>Madrid</td>\n",
       "      <td>Madrid</td>\n",
       "      <td>...</td>\n",
       "      <td>good</td>\n",
       "      <td>False</td>\n",
       "      <td>True</td>\n",
       "      <td>7064.0</td>\n",
       "      <td>False</td>\n",
       "      <td>False</td>\n",
       "      <td>NaN</td>\n",
       "      <td>Destacado</td>\n",
       "      <td>flat</td>\n",
       "      <td>standardFlat</td>\n",
       "    </tr>\n",
       "    <tr>\n",
       "      <th>3</th>\n",
       "      <td>3</td>\n",
       "      <td>175000.0</td>\n",
       "      <td>flat</td>\n",
       "      <td>49.0</td>\n",
       "      <td>True</td>\n",
       "      <td>1</td>\n",
       "      <td>1</td>\n",
       "      <td>Calle de los Morales, 10</td>\n",
       "      <td>Madrid</td>\n",
       "      <td>Madrid</td>\n",
       "      <td>...</td>\n",
       "      <td>good</td>\n",
       "      <td>False</td>\n",
       "      <td>True</td>\n",
       "      <td>3571.0</td>\n",
       "      <td>True</td>\n",
       "      <td>False</td>\n",
       "      <td>25000.0</td>\n",
       "      <td>Destacado</td>\n",
       "      <td>flat</td>\n",
       "      <td>standardFlat</td>\n",
       "    </tr>\n",
       "    <tr>\n",
       "      <th>4</th>\n",
       "      <td>4</td>\n",
       "      <td>280000.0</td>\n",
       "      <td>flat</td>\n",
       "      <td>121.0</td>\n",
       "      <td>True</td>\n",
       "      <td>4</td>\n",
       "      <td>2</td>\n",
       "      <td>Calle del Río Ulla</td>\n",
       "      <td>Madrid</td>\n",
       "      <td>Madrid</td>\n",
       "      <td>...</td>\n",
       "      <td>good</td>\n",
       "      <td>False</td>\n",
       "      <td>False</td>\n",
       "      <td>2314.0</td>\n",
       "      <td>False</td>\n",
       "      <td>False</td>\n",
       "      <td>NaN</td>\n",
       "      <td>Destacado</td>\n",
       "      <td>flat</td>\n",
       "      <td>standardFlat</td>\n",
       "    </tr>\n",
       "  </tbody>\n",
       "</table>\n",
       "<p>5 rows × 22 columns</p>\n",
       "</div>"
      ],
      "text/plain": [
       "   Unnamed: 0      price propertyType   size  exterior  rooms  bathrooms  \\\n",
       "0           0   335000.0         flat  136.0      True      3          2   \n",
       "1           1  1650000.0         flat  179.0      True      2          3   \n",
       "2           2   770000.0         flat  109.0      True      2          2   \n",
       "3           3   175000.0         flat   49.0      True      1          1   \n",
       "4           4   280000.0         flat  121.0      True      4          2   \n",
       "\n",
       "                         address province       municipality  ...  status  \\\n",
       "0                         SIGRID   Madrid  Rivas-Vaciamadrid  ...    good   \n",
       "1  Calle del Príncipe de Vergara   Madrid             Madrid  ...    good   \n",
       "2                   barrio Ibiza   Madrid             Madrid  ...    good   \n",
       "3       Calle de los Morales, 10   Madrid             Madrid  ...    good   \n",
       "4             Calle del Río Ulla   Madrid             Madrid  ...    good   \n",
       "\n",
       "   newDevelopment hasLift  priceByArea  hasParkingSpace  \\\n",
       "0           False    True       2463.0             True   \n",
       "1           False    True       9218.0             True   \n",
       "2           False    True       7064.0            False   \n",
       "3           False    True       3571.0             True   \n",
       "4           False   False       2314.0            False   \n",
       "\n",
       "   isParkingSpaceIncludedInPrice  parkingSpacePrice  groupDescription  \\\n",
       "0                           True                NaN         Destacado   \n",
       "1                           True                NaN         Destacado   \n",
       "2                          False                NaN         Destacado   \n",
       "3                          False            25000.0         Destacado   \n",
       "4                          False                NaN         Destacado   \n",
       "\n",
       "   typology   subTypology  \n",
       "0      flat  standardFlat  \n",
       "1      flat  standardFlat  \n",
       "2      flat  standardFlat  \n",
       "3      flat  standardFlat  \n",
       "4      flat  standardFlat  \n",
       "\n",
       "[5 rows x 22 columns]"
      ]
     },
     "execution_count": 29,
     "metadata": {},
     "output_type": "execute_result"
    }
   ],
   "source": [
    "df = pd.read_csv('cleaned_df.csv')\n",
    "df.head()"
   ]
  },
  {
   "cell_type": "code",
   "execution_count": 30,
   "id": "8f082e92-1f5a-4164-a354-a7519d3308aa",
   "metadata": {},
   "outputs": [
    {
     "data": {
      "text/plain": [
       "6515"
      ]
     },
     "execution_count": 30,
     "metadata": {},
     "output_type": "execute_result"
    }
   ],
   "source": [
    "df.shape[0]"
   ]
  },
  {
   "cell_type": "code",
   "execution_count": 44,
   "id": "81664da3-d1f8-41b0-89c0-929fb8fec131",
   "metadata": {},
   "outputs": [
    {
     "data": {
      "text/plain": [
       "['price',\n",
       " 'propertyType',\n",
       " 'size',\n",
       " 'exterior',\n",
       " 'rooms',\n",
       " 'bathrooms',\n",
       " 'address',\n",
       " 'province',\n",
       " 'municipality',\n",
       " 'latitude',\n",
       " 'longitude',\n",
       " 'status',\n",
       " 'newDevelopment',\n",
       " 'hasLift',\n",
       " 'priceByArea',\n",
       " 'hasParkingSpace',\n",
       " 'isParkingSpaceIncludedInPrice',\n",
       " 'parkingSpacePrice',\n",
       " 'groupDescription',\n",
       " 'typology',\n",
       " 'subTypology']"
      ]
     },
     "execution_count": 44,
     "metadata": {},
     "output_type": "execute_result"
    }
   ],
   "source": [
    "list(df.columns)"
   ]
  },
  {
   "cell_type": "code",
   "execution_count": 32,
   "id": "44f47c93-8071-445a-911c-49c150bd7fc7",
   "metadata": {},
   "outputs": [],
   "source": [
    "df = df[['price', 'propertyType', 'size', 'exterior', 'rooms',\n",
    "       'bathrooms', 'address', 'province', 'municipality', 'latitude',\n",
    "       'longitude', 'status', 'newDevelopment', 'hasLift', 'priceByArea',\n",
    "       'hasParkingSpace', 'isParkingSpaceIncludedInPrice', 'parkingSpacePrice',\n",
    "       'groupDescription', 'typology', 'subTypology']]"
   ]
  },
  {
   "cell_type": "code",
   "execution_count": 33,
   "id": "7bc18bf2-3af1-459a-89a8-bfd38cac0c12",
   "metadata": {},
   "outputs": [
    {
     "data": {
      "text/html": [
       "<div>\n",
       "<style scoped>\n",
       "    .dataframe tbody tr th:only-of-type {\n",
       "        vertical-align: middle;\n",
       "    }\n",
       "\n",
       "    .dataframe tbody tr th {\n",
       "        vertical-align: top;\n",
       "    }\n",
       "\n",
       "    .dataframe thead th {\n",
       "        text-align: right;\n",
       "    }\n",
       "</style>\n",
       "<table border=\"1\" class=\"dataframe\">\n",
       "  <thead>\n",
       "    <tr style=\"text-align: right;\">\n",
       "      <th></th>\n",
       "      <th>price</th>\n",
       "      <th>propertyType</th>\n",
       "      <th>size</th>\n",
       "      <th>exterior</th>\n",
       "      <th>rooms</th>\n",
       "      <th>bathrooms</th>\n",
       "      <th>address</th>\n",
       "      <th>province</th>\n",
       "      <th>municipality</th>\n",
       "      <th>latitude</th>\n",
       "      <th>...</th>\n",
       "      <th>status</th>\n",
       "      <th>newDevelopment</th>\n",
       "      <th>hasLift</th>\n",
       "      <th>priceByArea</th>\n",
       "      <th>hasParkingSpace</th>\n",
       "      <th>isParkingSpaceIncludedInPrice</th>\n",
       "      <th>parkingSpacePrice</th>\n",
       "      <th>groupDescription</th>\n",
       "      <th>typology</th>\n",
       "      <th>subTypology</th>\n",
       "    </tr>\n",
       "  </thead>\n",
       "  <tbody>\n",
       "    <tr>\n",
       "      <th>0</th>\n",
       "      <td>335000.0</td>\n",
       "      <td>flat</td>\n",
       "      <td>136.0</td>\n",
       "      <td>True</td>\n",
       "      <td>3</td>\n",
       "      <td>2</td>\n",
       "      <td>SIGRID</td>\n",
       "      <td>Madrid</td>\n",
       "      <td>Rivas-Vaciamadrid</td>\n",
       "      <td>40.352160</td>\n",
       "      <td>...</td>\n",
       "      <td>good</td>\n",
       "      <td>False</td>\n",
       "      <td>True</td>\n",
       "      <td>2463.0</td>\n",
       "      <td>True</td>\n",
       "      <td>True</td>\n",
       "      <td>NaN</td>\n",
       "      <td>Destacado</td>\n",
       "      <td>flat</td>\n",
       "      <td>standardFlat</td>\n",
       "    </tr>\n",
       "    <tr>\n",
       "      <th>1</th>\n",
       "      <td>1650000.0</td>\n",
       "      <td>flat</td>\n",
       "      <td>179.0</td>\n",
       "      <td>True</td>\n",
       "      <td>2</td>\n",
       "      <td>3</td>\n",
       "      <td>Calle del Príncipe de Vergara</td>\n",
       "      <td>Madrid</td>\n",
       "      <td>Madrid</td>\n",
       "      <td>40.433593</td>\n",
       "      <td>...</td>\n",
       "      <td>good</td>\n",
       "      <td>False</td>\n",
       "      <td>True</td>\n",
       "      <td>9218.0</td>\n",
       "      <td>True</td>\n",
       "      <td>True</td>\n",
       "      <td>NaN</td>\n",
       "      <td>Destacado</td>\n",
       "      <td>flat</td>\n",
       "      <td>standardFlat</td>\n",
       "    </tr>\n",
       "    <tr>\n",
       "      <th>2</th>\n",
       "      <td>770000.0</td>\n",
       "      <td>flat</td>\n",
       "      <td>109.0</td>\n",
       "      <td>True</td>\n",
       "      <td>2</td>\n",
       "      <td>2</td>\n",
       "      <td>barrio Ibiza</td>\n",
       "      <td>Madrid</td>\n",
       "      <td>Madrid</td>\n",
       "      <td>40.416551</td>\n",
       "      <td>...</td>\n",
       "      <td>good</td>\n",
       "      <td>False</td>\n",
       "      <td>True</td>\n",
       "      <td>7064.0</td>\n",
       "      <td>False</td>\n",
       "      <td>False</td>\n",
       "      <td>NaN</td>\n",
       "      <td>Destacado</td>\n",
       "      <td>flat</td>\n",
       "      <td>standardFlat</td>\n",
       "    </tr>\n",
       "    <tr>\n",
       "      <th>3</th>\n",
       "      <td>175000.0</td>\n",
       "      <td>flat</td>\n",
       "      <td>49.0</td>\n",
       "      <td>True</td>\n",
       "      <td>1</td>\n",
       "      <td>1</td>\n",
       "      <td>Calle de los Morales, 10</td>\n",
       "      <td>Madrid</td>\n",
       "      <td>Madrid</td>\n",
       "      <td>40.361994</td>\n",
       "      <td>...</td>\n",
       "      <td>good</td>\n",
       "      <td>False</td>\n",
       "      <td>True</td>\n",
       "      <td>3571.0</td>\n",
       "      <td>True</td>\n",
       "      <td>False</td>\n",
       "      <td>25000.0</td>\n",
       "      <td>Destacado</td>\n",
       "      <td>flat</td>\n",
       "      <td>standardFlat</td>\n",
       "    </tr>\n",
       "    <tr>\n",
       "      <th>4</th>\n",
       "      <td>280000.0</td>\n",
       "      <td>flat</td>\n",
       "      <td>121.0</td>\n",
       "      <td>True</td>\n",
       "      <td>4</td>\n",
       "      <td>2</td>\n",
       "      <td>Calle del Río Ulla</td>\n",
       "      <td>Madrid</td>\n",
       "      <td>Madrid</td>\n",
       "      <td>40.432982</td>\n",
       "      <td>...</td>\n",
       "      <td>good</td>\n",
       "      <td>False</td>\n",
       "      <td>False</td>\n",
       "      <td>2314.0</td>\n",
       "      <td>False</td>\n",
       "      <td>False</td>\n",
       "      <td>NaN</td>\n",
       "      <td>Destacado</td>\n",
       "      <td>flat</td>\n",
       "      <td>standardFlat</td>\n",
       "    </tr>\n",
       "  </tbody>\n",
       "</table>\n",
       "<p>5 rows × 21 columns</p>\n",
       "</div>"
      ],
      "text/plain": [
       "       price propertyType   size  exterior  rooms  bathrooms  \\\n",
       "0   335000.0         flat  136.0      True      3          2   \n",
       "1  1650000.0         flat  179.0      True      2          3   \n",
       "2   770000.0         flat  109.0      True      2          2   \n",
       "3   175000.0         flat   49.0      True      1          1   \n",
       "4   280000.0         flat  121.0      True      4          2   \n",
       "\n",
       "                         address province       municipality   latitude  ...  \\\n",
       "0                         SIGRID   Madrid  Rivas-Vaciamadrid  40.352160  ...   \n",
       "1  Calle del Príncipe de Vergara   Madrid             Madrid  40.433593  ...   \n",
       "2                   barrio Ibiza   Madrid             Madrid  40.416551  ...   \n",
       "3       Calle de los Morales, 10   Madrid             Madrid  40.361994  ...   \n",
       "4             Calle del Río Ulla   Madrid             Madrid  40.432982  ...   \n",
       "\n",
       "   status newDevelopment  hasLift  priceByArea  hasParkingSpace  \\\n",
       "0    good          False     True       2463.0             True   \n",
       "1    good          False     True       9218.0             True   \n",
       "2    good          False     True       7064.0            False   \n",
       "3    good          False     True       3571.0             True   \n",
       "4    good          False    False       2314.0            False   \n",
       "\n",
       "   isParkingSpaceIncludedInPrice  parkingSpacePrice  groupDescription  \\\n",
       "0                           True                NaN         Destacado   \n",
       "1                           True                NaN         Destacado   \n",
       "2                          False                NaN         Destacado   \n",
       "3                          False            25000.0         Destacado   \n",
       "4                          False                NaN         Destacado   \n",
       "\n",
       "  typology   subTypology  \n",
       "0     flat  standardFlat  \n",
       "1     flat  standardFlat  \n",
       "2     flat  standardFlat  \n",
       "3     flat  standardFlat  \n",
       "4     flat  standardFlat  \n",
       "\n",
       "[5 rows x 21 columns]"
      ]
     },
     "execution_count": 33,
     "metadata": {},
     "output_type": "execute_result"
    }
   ],
   "source": [
    "df.head()"
   ]
  },
  {
   "cell_type": "code",
   "execution_count": 34,
   "id": "ae30fb73-74a6-4ebc-96c2-90b5c5696fef",
   "metadata": {},
   "outputs": [],
   "source": [
    "df1 = df.drop_duplicates()"
   ]
  },
  {
   "cell_type": "code",
   "execution_count": 36,
   "id": "ee2f5001-40ac-49fc-8e96-4a09bc1900eb",
   "metadata": {},
   "outputs": [
    {
     "data": {
      "text/plain": [
       "(2876, 21)"
      ]
     },
     "execution_count": 36,
     "metadata": {},
     "output_type": "execute_result"
    }
   ],
   "source": [
    "df1.shape"
   ]
  },
  {
   "cell_type": "markdown",
   "id": "08814777-3f9c-432a-9c05-4b8dd73297f0",
   "metadata": {},
   "source": [
    "### Var: propertyType"
   ]
  },
  {
   "cell_type": "code",
   "execution_count": 37,
   "id": "4282686a-7848-4e02-ba5d-e5276e771560",
   "metadata": {},
   "outputs": [
    {
     "data": {
      "text/plain": [
       "<Axes: xlabel='propertyType'>"
      ]
     },
     "execution_count": 37,
     "metadata": {},
     "output_type": "execute_result"
    },
    {
     "data": {
      "image/png": "[encoded data removed]",
      "text/plain": [
       "<Figure size 640x480 with 1 Axes>"
      ]
     },
     "metadata": {},
     "output_type": "display_data"
    }
   ],
   "source": [
    "ptyper = df1['rooms'].groupby(df1['propertyType']).agg({'mean'}).plot(kind = \"bar\")\n",
    "ptyper"
   ]
  },
  {
   "cell_type": "code",
   "execution_count": 40,
   "id": "6a6a03df-949b-40c1-b0a1-608fbfd17c2a",
   "metadata": {},
   "outputs": [
    {
     "data": {
      "text/plain": [
       "<Axes: xlabel='rooms'>"
      ]
     },
     "execution_count": 40,
     "metadata": {},
     "output_type": "execute_result"
    },
    {
     "data": {
      "image/png": "[encoded data removed]",
      "text/plain": [
       "<Figure size 640x480 with 1 Axes>"
      ]
     },
     "metadata": {},
     "output_type": "display_data"
    }
   ],
   "source": [
    "roomsp = df1['price'].groupby(df1['rooms']).agg({'mean'}).plot(kind = \"bar\")\n",
    "roomsp"
   ]
  },
  {
   "cell_type": "markdown",
   "id": "307171a9-68ff-418f-8c76-a6077127db99",
   "metadata": {},
   "source": [
    "### Var: hasLift"
   ]
  },
  {
   "cell_type": "code",
   "execution_count": 41,
   "id": "5991d885-532f-4a37-a63f-f80e561ff2bc",
   "metadata": {},
   "outputs": [
    {
     "data": {
      "text/html": [
       "<div>\n",
       "<style scoped>\n",
       "    .dataframe tbody tr th:only-of-type {\n",
       "        vertical-align: middle;\n",
       "    }\n",
       "\n",
       "    .dataframe tbody tr th {\n",
       "        vertical-align: top;\n",
       "    }\n",
       "\n",
       "    .dataframe thead th {\n",
       "        text-align: right;\n",
       "    }\n",
       "</style>\n",
       "<table border=\"1\" class=\"dataframe\">\n",
       "  <thead>\n",
       "    <tr style=\"text-align: right;\">\n",
       "      <th></th>\n",
       "      <th>mean</th>\n",
       "    </tr>\n",
       "    <tr>\n",
       "      <th>hasLift</th>\n",
       "      <th></th>\n",
       "    </tr>\n",
       "  </thead>\n",
       "  <tbody>\n",
       "    <tr>\n",
       "      <th>False</th>\n",
       "      <td>372263.227273</td>\n",
       "    </tr>\n",
       "    <tr>\n",
       "      <th>True</th>\n",
       "      <td>453387.141152</td>\n",
       "    </tr>\n",
       "  </tbody>\n",
       "</table>\n",
       "</div>"
      ],
      "text/plain": [
       "                  mean\n",
       "hasLift               \n",
       "False    372263.227273\n",
       "True     453387.141152"
      ]
     },
     "execution_count": 41,
     "metadata": {},
     "output_type": "execute_result"
    }
   ],
   "source": [
    "liftp = df1['price'].groupby(df1['hasLift']).agg({'mean'})\n",
    "liftp"
   ]
  },
  {
   "cell_type": "code",
   "execution_count": 42,
   "id": "264bd87f-21da-4a75-8cec-8f734522badc",
   "metadata": {},
   "outputs": [
    {
     "data": {
      "text/plain": [
       "<Axes: xlabel='hasLift'>"
      ]
     },
     "execution_count": 42,
     "metadata": {},
     "output_type": "execute_result"
    },
    {
     "data": {
      "image/png": "[encoded data removed]",
      "text/plain": [
       "<Figure size 640x480 with 1 Axes>"
      ]
     },
     "metadata": {},
     "output_type": "display_data"
    }
   ],
   "source": [
    "liftp = df1['price'].groupby(df1['hasLift']).agg({'mean'}).plot(kind = \"bar\")\n",
    "liftp"
   ]
  },
  {
   "cell_type": "markdown",
   "id": "91e2e3c2-7671-4b08-bedb-f08bee32ece3",
   "metadata": {},
   "source": [
    "### Var: rooms"
   ]
  },
  {
   "cell_type": "code",
   "execution_count": 43,
   "id": "2de59101-3c27-48dd-84eb-5394d99c64dc",
   "metadata": {},
   "outputs": [
    {
     "data": {
      "text/plain": [
       "<Axes: xlabel='rooms'>"
      ]
     },
     "execution_count": 43,
     "metadata": {},
     "output_type": "execute_result"
    },
    {
     "data": {
      "image/png": "[encoded data removed]",
      "text/plain": [
       "<Figure size 640x480 with 1 Axes>"
      ]
     },
     "metadata": {},
     "output_type": "display_data"
    }
   ],
   "source": [
    "roomsp = df1['price'].groupby(df1['rooms']).agg({'mean'}).plot(kind = \"bar\")\n",
    "roomsp"
   ]
  },
  {
   "cell_type": "code",
   "execution_count": null,
   "id": "fe98e0d6-fd77-401f-b75d-f73c7934267a",
   "metadata": {},
   "outputs": [],
   "source": []
  }
 ],
 "metadata": {
  "kernelspec": {
   "display_name": "Python 3 (ipykernel)",
   "language": "python",
   "name": "python3"
  },
  "language_info": {
   "codemirror_mode": {
    "name": "ipython",
    "version": 3
   },
   "file_extension": ".py",
   "mimetype": "text/x-python",
   "name": "python",
   "nbconvert_exporter": "python",
   "pygments_lexer": "ipython3",
   "version": "3.11.4"
  }
 },
 "nbformat": 4,
 "nbformat_minor": 5
}
